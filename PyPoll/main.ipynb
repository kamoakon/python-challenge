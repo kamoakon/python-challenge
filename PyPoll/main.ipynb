{
 "cells": [
  {
   "cell_type": "code",
   "execution_count": 309,
   "metadata": {
    "collapsed": false,
    "scrolled": true
   },
   "outputs": [
    {
     "name": "stdout",
     "output_type": "stream",
     "text": [
      "Enter the full path to your file election_data_2.csv\n"
     ]
    }
   ],
   "source": [
    "import csv\n",
    "\n",
    "import pandas as pd\n",
    "\n",
    "import os\n",
    "\n",
    "import sys\n",
    "\n",
    "#Asking user to put in the file name\n",
    "csv_file = input('Enter the full path to your file ')\n",
    "\n",
    "\n"
   ]
  },
  {
   "cell_type": "code",
   "execution_count": 310,
   "metadata": {
    "collapsed": false
   },
   "outputs": [],
   "source": [
    "df = pd.read_csv(csv_file, sep=',')\n",
    " \n",
    "#df.head()"
   ]
  },
  {
   "cell_type": "code",
   "execution_count": 311,
   "metadata": {
    "collapsed": false
   },
   "outputs": [],
   "source": [
    "#df.groupby('Candidate').Candidate.count()\n",
    "\n",
    "#This line is used for aesthetic purposes. Used to break the output into sections.\n",
    "#reakline = \"-------------------------\"\n",
    "\n",
    "#Total number of votes cast\n",
    "totalVotes = df['Voter ID'].count()\n",
    "\n",
    "\n",
    "#Opening file\n",
    "\n",
    "file=open(\"election_output.txt\", \"w\")\n"
   ]
  },
  {
   "cell_type": "code",
   "execution_count": 312,
   "metadata": {
    "collapsed": false,
    "scrolled": true
   },
   "outputs": [
    {
     "name": "stdout",
     "output_type": "stream",
     "text": [
      "Election Results\n",
      "-------------------------\n",
      "Total Votes: 3521001\n",
      "-------------------------\n",
      "\n"
     ]
    },
    {
     "data": {
      "text/plain": [
       "90"
      ]
     },
     "execution_count": 312,
     "metadata": {},
     "output_type": "execute_result"
    }
   ],
   "source": [
    "s = \"Election Results\\n\" + breakline + \"\\nTotal Votes: {}\\n\".format(totalVotes) + breakline + \"\\n\"\n",
    "\n",
    "#print(\"Election Results\")\n",
    "print(s)\n",
    "\n",
    "k = str(s)\n",
    "\n",
    "file.write(k)\n",
    "#print(\"The Total:\", totalVotes) \n",
    "#df['Candidate'].value_counts()"
   ]
  },
  {
   "cell_type": "code",
   "execution_count": 313,
   "metadata": {
    "collapsed": false
   },
   "outputs": [],
   "source": [
    "\n",
    "# Convert to dataframe and take the counts for each unique candidate\n",
    "dfn = pd.DataFrame(df['Candidate'].value_counts())\n",
    "\n",
    "#Reset the index\n",
    "dfn = dfn.reset_index()\n",
    "\n",
    "dfn.head()\n",
    "\n",
    "#Total count for each candidate\n",
    "dfn = dfn.rename(columns={'index': 'Candidate', 'Candidate': 'Total Count'})\n",
    "\n",
    "#dfn.head()"
   ]
  },
  {
   "cell_type": "code",
   "execution_count": 314,
   "metadata": {
    "collapsed": false
   },
   "outputs": [
    {
     "name": "stdout",
     "output_type": "stream",
     "text": [
      "Khan: 63.00001050837531% (2218231)\n",
      "Correy: 19.999994319797125% (704200)\n",
      "Li: 13.999996023857989% (492940)\n",
      "O'Tooley: 2.999999147969569% (105630)\n"
     ]
    }
   ],
   "source": [
    "#Print out the Candidates, along with their total count, and percentage\n",
    "\n",
    "for x in range(0,len(dfn)):\n",
    "    percent = (dfn['Total Count'].iloc[x]/totalVotes)* 100\n",
    "    #print(dfn['Candidate'].iloc[x],\":\", percent, \"% (\", dfn['Total Count'].iloc[x], \")\", sep=\"\")\n",
    "    s3 = \"{}: {}% ({})\".format(dfn['Candidate'].iloc[x],percent,dfn['Total Count'].iloc[x]) \n",
    "    print(s3)\n",
    "    percent = 0\n",
    "    w = str(s3 + \"\\n\")\n",
    "    file.write(w)"
   ]
  },
  {
   "cell_type": "code",
   "execution_count": 315,
   "metadata": {
    "collapsed": false
   },
   "outputs": [
    {
     "name": "stdout",
     "output_type": "stream",
     "text": [
      "-------------------------\n",
      "Winner: Khan\n",
      "-------------------------\n"
     ]
    }
   ],
   "source": [
    "#Finding the max of these scores\n",
    "\n",
    "maxx = dfn['Total Count'].max()\n",
    "\n",
    "#Looking for the name of the candidate that corresponds with the winner value\n",
    "\n",
    "winner = dfn['Candidate'].loc[dfn['Total Count'] == maxx].values.tolist()\n",
    "\n",
    "#Print the winner\n",
    "s4 = breakline + \"\\nWinner: {}\\n\".format(winner[0]) + breakline\n",
    "print(s4)\n",
    "file.write(s4)\n",
    "#print(\"Winner:\", winner[0])\n",
    "\n",
    "\n",
    "file.close()"
   ]
  },
  {
   "cell_type": "code",
   "execution_count": null,
   "metadata": {
    "collapsed": false
   },
   "outputs": [],
   "source": []
  },
  {
   "cell_type": "code",
   "execution_count": null,
   "metadata": {
    "collapsed": true
   },
   "outputs": [],
   "source": []
  },
  {
   "cell_type": "code",
   "execution_count": null,
   "metadata": {
    "collapsed": true
   },
   "outputs": [],
   "source": []
  },
  {
   "cell_type": "code",
   "execution_count": null,
   "metadata": {
    "collapsed": true
   },
   "outputs": [],
   "source": []
  }
 ],
 "metadata": {
  "kernelspec": {
   "display_name": "Python 3",
   "language": "python",
   "name": "python3"
  },
  "language_info": {
   "codemirror_mode": {
    "name": "ipython",
    "version": 3
   },
   "file_extension": ".py",
   "mimetype": "text/x-python",
   "name": "python",
   "nbconvert_exporter": "python",
   "pygments_lexer": "ipython3",
   "version": "3.6.0"
  }
 },
 "nbformat": 4,
 "nbformat_minor": 2
}
